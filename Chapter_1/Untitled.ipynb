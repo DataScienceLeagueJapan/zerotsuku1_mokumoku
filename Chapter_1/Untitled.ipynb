{
 "cells": [
  {
   "cell_type": "code",
   "execution_count": 1,
   "id": "60c24b13",
   "metadata": {},
   "outputs": [
    {
     "name": "stdout",
     "output_type": "stream",
     "text": [
      "6\n"
     ]
    }
   ],
   "source": [
    "\"\"\"1. 変数xという変数に2を代入し，それを3倍した数を出力してください．\"\"\"\n",
    "x = 2\n",
    "print(x*3)"
   ]
  },
  {
   "cell_type": "code",
   "execution_count": 2,
   "id": "a5c89b0c",
   "metadata": {},
   "outputs": [
    {
     "name": "stdout",
     "output_type": "stream",
     "text": [
      "200 100\n"
     ]
    }
   ],
   "source": [
    "\"\"\"変数aに100を代入し，変数bに200を代入します．その後，両者の値を入れ替えて，\n",
    "aに200，bに100が代入されているようにしてください．\n",
    "出力としてはaとbを出力してください．出力形式は問いませんが，print(a,b)とすると，空白区切で出力できます．\"\"\"\n",
    "a = 100\n",
    "b = 200\n",
    "a,b = b,a\n",
    "print(a,b)"
   ]
  },
  {
   "cell_type": "code",
   "execution_count": 3,
   "id": "edced690",
   "metadata": {},
   "outputs": [
    {
     "name": "stdout",
     "output_type": "stream",
     "text": [
      "12 8 20 5.0\n"
     ]
    }
   ],
   "source": [
    "\"\"\"変数aに10を代入，変数bに2を代入し，\n",
    "aとbの和，差，積，商を出力してください．\n",
    "出力形式は問いません．また，商の値が小数か整数かは問いません．\"\"\"\n",
    "a = 10\n",
    "b = 2\n",
    "print(a+b,a-b,a*b,a/b)"
   ]
  },
  {
   "cell_type": "code",
   "execution_count": 4,
   "id": "596d4f6e",
   "metadata": {},
   "outputs": [
    {
     "name": "stdout",
     "output_type": "stream",
     "text": [
      "2\n"
     ]
    }
   ],
   "source": [
    "\"\"\"変数aに5を代入，変数bに3を代入し，aをbで割った時の余りを求めてください．\"\"\"\n",
    "a = 5\n",
    "b = 3\n",
    "print(a%b)"
   ]
  },
  {
   "cell_type": "code",
   "execution_count": 6,
   "id": "2cc5eab9",
   "metadata": {},
   "outputs": [
    {
     "name": "stdout",
     "output_type": "stream",
     "text": [
      "9765625 9765625\n"
     ]
    }
   ],
   "source": [
    "\"\"\"変数aに5を代入，変数bに10を代入し，aのb乗，つまりab\n",
    "を出力してください．\"\"\"\n",
    "a = 5\n",
    "b = 10\n",
    "print(pow(a,b),a**b)"
   ]
  },
  {
   "cell_type": "code",
   "execution_count": 7,
   "id": "703c3948",
   "metadata": {},
   "outputs": [
    {
     "name": "stdout",
     "output_type": "stream",
     "text": [
      "10\n"
     ]
    }
   ],
   "source": [
    "\"\"\"変数aに5を代入，変数bに10を代入し，aとbのうち大きい方を出力してください．\"\"\"\n",
    "a = 5\n",
    "b = 10\n",
    "print(max(a,b))"
   ]
  },
  {
   "cell_type": "code",
   "execution_count": 9,
   "id": "61052933",
   "metadata": {},
   "outputs": [
    {
     "name": "stdout",
     "output_type": "stream",
     "text": [
      "False\n"
     ]
    }
   ],
   "source": [
    "\"\"\"変数aに5を代入し，aが偶数ならTrue，そうでなければFalseを出力してください．(条件式をそのままprintすれば良いです．)\"\"\"\n",
    "a = 5\n",
    "print(bool((a % 2) == 0))"
   ]
  },
  {
   "cell_type": "code",
   "execution_count": 10,
   "id": "2af619b8",
   "metadata": {},
   "outputs": [
    {
     "ename": "TypeError",
     "evalue": "len() takes exactly one argument (2 given)",
     "output_type": "error",
     "traceback": [
      "\u001b[1;31m---------------------------------------------------------------------------\u001b[0m",
      "\u001b[1;31mTypeError\u001b[0m                                 Traceback (most recent call last)",
      "\u001b[1;32m~\\AppData\\Local\\Temp\\ipykernel_34112\\1982838530.py\u001b[0m in \u001b[0;36m<module>\u001b[1;34m\u001b[0m\n\u001b[0;32m      1\u001b[0m \u001b[1;34m\"\"\"変数に，'python'という文字列を代入し，先頭の文字を0番目として2番目の文字を出力してください．\"\"\"\u001b[0m\u001b[1;33m\u001b[0m\u001b[1;33m\u001b[0m\u001b[0m\n\u001b[0;32m      2\u001b[0m \u001b[0mx\u001b[0m \u001b[1;33m=\u001b[0m \u001b[1;34m\"python\"\u001b[0m\u001b[1;33m\u001b[0m\u001b[1;33m\u001b[0m\u001b[0m\n\u001b[1;32m----> 3\u001b[1;33m \u001b[0mprint\u001b[0m\u001b[1;33m(\u001b[0m\u001b[0mlen\u001b[0m\u001b[1;33m(\u001b[0m\u001b[0mx\u001b[0m\u001b[1;33m,\u001b[0m\u001b[1;36m2\u001b[0m\u001b[1;33m)\u001b[0m\u001b[1;33m)\u001b[0m\u001b[1;33m\u001b[0m\u001b[1;33m\u001b[0m\u001b[0m\n\u001b[0m",
      "\u001b[1;31mTypeError\u001b[0m: len() takes exactly one argument (2 given)"
     ]
    }
   ],
   "source": [
    "\"\"\"変数に，'python'という文字列を代入し，先頭の文字を0番目として2番目の文字を出力してください．\"\"\"\n",
    "x = \"python\"\n",
    "print(len(x))"
   ]
  },
  {
   "cell_type": "code",
   "execution_count": null,
   "id": "eac3528f",
   "metadata": {},
   "outputs": [],
   "source": []
  }
 ],
 "metadata": {
  "kernelspec": {
   "display_name": "Python 3 (ipykernel)",
   "language": "python",
   "name": "python3"
  },
  "language_info": {
   "codemirror_mode": {
    "name": "ipython",
    "version": 3
   },
   "file_extension": ".py",
   "mimetype": "text/x-python",
   "name": "python",
   "nbconvert_exporter": "python",
   "pygments_lexer": "ipython3",
   "version": "3.9.13"
  }
 },
 "nbformat": 4,
 "nbformat_minor": 5
}
